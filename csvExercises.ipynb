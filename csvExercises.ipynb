{
  "nbformat": 4,
  "nbformat_minor": 0,
  "metadata": {
    "colab": {
      "provenance": []
    },
    "kernelspec": {
      "name": "python3",
      "display_name": "Python 3"
    },
    "language_info": {
      "name": "python"
    }
  },
  "cells": [
    {
      "cell_type": "code",
      "source": [
        "import csv"
      ],
      "metadata": {
        "id": "mAbL-pVPDrGO"
      },
      "execution_count": null,
      "outputs": []
    },
    {
      "cell_type": "markdown",
      "source": [
        "# **1. Write a Python program to read each row from a given csv file and print a list of strings**"
      ],
      "metadata": {
        "id": "rsNo1mskBAlG"
      }
    },
    {
      "cell_type": "code",
      "source": [
        "with open(file_path, mode='r', newline='', encoding='utf-8') as file:\n",
        "    csv_reader = csv.reader(file)\n",
        "    for row in csv_reader:\n",
        "        print(list(row))"
      ],
      "metadata": {
        "id": "pDnfgm6_CAWQ"
      },
      "execution_count": null,
      "outputs": []
    },
    {
      "cell_type": "markdown",
      "source": [
        "# **2. Write a Python program to read a given CSV file having tab delimiter**"
      ],
      "metadata": {
        "id": "QnDz_-UMYV-q"
      }
    },
    {
      "cell_type": "code",
      "source": [
        "with open(file_path, mode='r', newline='', encoding='utf-8') as file:\n",
        "    csv_reader = csv.reader(file, delimiter='\\t')\n",
        "    for row in csv_reader:\n",
        "        print(row)"
      ],
      "metadata": {
        "id": "AGT4Ge2VYV-t"
      },
      "execution_count": null,
      "outputs": []
    },
    {
      "cell_type": "markdown",
      "source": [
        "# **3. Write a Python program to read a given CSV file as a list**"
      ],
      "metadata": {
        "id": "uj2UnD8aYWI4"
      }
    },
    {
      "cell_type": "code",
      "source": [
        "def read_csv_as_list(file_name):\n",
        "    data_list = []\n",
        "    with open(file_name, 'r') as file:\n",
        "        csv_reader = csv.reader(file)\n",
        "        for row in csv_reader:\n",
        "            data_list.append(row)\n",
        "    return data_list\n",
        "\n",
        "file_name = 'pathToTheScvFile.csv' # путь к файлу\n",
        "csv_data = read_csv_as_list(file_name)\n",
        "print(csv_data)"
      ],
      "metadata": {
        "id": "pEMmt1PCYWI5"
      },
      "execution_count": null,
      "outputs": []
    },
    {
      "cell_type": "markdown",
      "source": [
        "# **4. Write a Python program to read a given CSV file as a dictionary**"
      ],
      "metadata": {
        "id": "xbxX5ODaYWSl"
      }
    },
    {
      "cell_type": "code",
      "source": [
        "def read_csv_as_dict(file_name):\n",
        "    data_dict = []\n",
        "    with open(file_name, 'r') as file:\n",
        "        csv_reader = csv.DictReader(file)\n",
        "        for row in csv_reader:\n",
        "            data_dict.append(dict(row))\n",
        "    return data_dict\n",
        "\n",
        "file_name = 'pathToTheScvFile.csv' # путь к файлу\n",
        "csv_data = read_csv_as_dict(file_name)\n",
        "print(csv_data)"
      ],
      "metadata": {
        "id": "p3Z4C4RgYWSn"
      },
      "execution_count": null,
      "outputs": []
    },
    {
      "cell_type": "markdown",
      "source": [
        "# **5. Write a Python program to read a given CSV files with initial spaces after a delimiter and remove those initial spaces**"
      ],
      "metadata": {
        "id": "aTw0vrzhYWaq"
      }
    },
    {
      "cell_type": "code",
      "source": [
        "def read_csv_remove_spaces(file_name):\n",
        "    data_list = []\n",
        "    with open(file_name, 'r') as file:\n",
        "        csv_reader = csv.reader(file, skipinitialspace=True)\n",
        "        for row in csv_reader:\n",
        "            data_list.append(row)\n",
        "    return data_list\n",
        "\n",
        "file_name = 'pathToTheScvFile.csv' # путь к файлу\n",
        "csv_data = read_csv_remove_spaces(file_name)\n",
        "print(csv_data)"
      ],
      "metadata": {
        "id": "FJbVuPQpYWar"
      },
      "execution_count": null,
      "outputs": []
    },
    {
      "cell_type": "markdown",
      "source": [
        "# **6. Write a Python program that reads a CSV file and remove initial spaces, quotes around each entry and the delimiter**"
      ],
      "metadata": {
        "id": "AzGioNh4YWk3"
      }
    },
    {
      "cell_type": "code",
      "source": [
        "def read_csv_clean(file_name, delimiter=','):\n",
        "    data_list = []\n",
        "    with open(file_name, 'r') as file:\n",
        "        csv_reader = csv.reader(file, delimiter=delimiter, skipinitialspace=True, quotechar='\"')\n",
        "        for row in csv_reader:\n",
        "            cleaned_row = [entry.strip('\"') for entry in row]\n",
        "            data_list.append(cleaned_row)\n",
        "    return data_list\n",
        "\n",
        "file_name = 'pathToTheScvFile.csv' # путь к файлу\n",
        "csv_data = read_csv_clean(file_name, delimiter=',')\n",
        "print(csv_data)\n"
      ],
      "metadata": {
        "id": "8gsMFKxvYWk3"
      },
      "execution_count": null,
      "outputs": []
    },
    {
      "cell_type": "markdown",
      "source": [
        "# **7. Write a Python program to read specific columns of a given CSV file and print the content of the columns**"
      ],
      "metadata": {
        "id": "8iA9tDEkYWvZ"
      }
    },
    {
      "cell_type": "code",
      "source": [
        "def read_specific_columns(file_name, columns):\n",
        "    with open(file_name, 'r') as file:\n",
        "        csv_reader = csv.DictReader(file)  # Read as a dictionary\n",
        "        for row in csv_reader:\n",
        "            selected_columns = {col: row[col] for col in columns if col in row}\n",
        "            print(selected_columns)\n",
        "\n",
        "file_name = 'pathToTheScvFile.csv' # путь к файлу\n",
        "columns = ['columnName1', 'columnName2']\n",
        "read_specific_columns(file_name, columns)"
      ],
      "metadata": {
        "id": "a2TxtNkFYWva"
      },
      "execution_count": null,
      "outputs": []
    },
    {
      "cell_type": "markdown",
      "source": [
        "# **8. Write a Python program that reads each row of a given csv file and skip the header of the file. Also print the number of rows and the field names**"
      ],
      "metadata": {
        "id": "7aXOQGp_YW3t"
      }
    },
    {
      "cell_type": "code",
      "source": [
        "def read_csv_skip_header(file_name):\n",
        "    with open(file_name, 'r') as file:\n",
        "        csv_reader = csv.reader(file)\n",
        "        field_names = next(csv_reader)\n",
        "        row_count = 0\n",
        "\n",
        "        for row in csv_reader:\n",
        "            print(row)\n",
        "            row_count += 1\n",
        "\n",
        "        print(\"\\nField Names:\", field_names)\n",
        "        print(\"Number of Rows:\", row_count)\n",
        "\n",
        "file_name = 'pathToTheScvFile.csv' # путь к файлу\n",
        "read_csv_skip_header(file_name)"
      ],
      "metadata": {
        "id": "YWEYuwVSYW3t"
      },
      "execution_count": null,
      "outputs": []
    },
    {
      "cell_type": "markdown",
      "source": [
        "# **9. Write a Python program to create an object for writing and iterate over the rows to print the values**"
      ],
      "metadata": {
        "id": "W3-k1bC0YW-z"
      }
    },
    {
      "cell_type": "code",
      "source": [
        "def write_and_print_csv(file_name, data, field_names):\n",
        "    with open(file_name, 'w', newline='') as file:\n",
        "        csv_writer = csv.DictWriter(file, fieldnames=field_names)\n",
        "        csv_writer.writeheader()\n",
        "\n",
        "        for row in data:\n",
        "            csv_writer.writerow(row)\n",
        "\n",
        "    with open(file_name, 'r') as file:\n",
        "        csv_reader = csv.reader(file)\n",
        "\n",
        "        for row in csv_reader:\n",
        "            print(row)\n",
        "\n",
        "file_name = 'outputFileName.csv' # вывод\n",
        "\n",
        "data = [\n",
        "    {'Name': 'John', 'Age': 30, 'City': 'New York'},\n",
        "    {'Name': 'Anna', 'Age': 25, 'City': 'Los Angeles'},\n",
        "    {'Name': 'Mike', 'Age': 35, 'City': 'Chicago'}\n",
        "]\n",
        "\n",
        "field_names = ['Name', 'Age', 'City']\n",
        "\n",
        "write_and_print_csv(file_name, data, field_names)\n"
      ],
      "metadata": {
        "id": "q2qIzJboYW-z"
      },
      "execution_count": null,
      "outputs": []
    },
    {
      "cell_type": "markdown",
      "source": [
        "# **10. Write a Python program to write a Python list of lists to a csv file. After writing the CSV file read the CSV file and display the content**"
      ],
      "metadata": {
        "id": "cJDcy8OGYXGd"
      }
    },
    {
      "cell_type": "code",
      "source": [
        "def write_list_to_csv(file_name, data):\n",
        "    with open(file_name, 'w', newline='') as file:\n",
        "        csv_writer = csv.writer(file)\n",
        "        csv_writer.writerows(data)\n",
        "\n",
        "def read_and_display_csv(file_name):\n",
        "    with open(file_name, 'r') as file:\n",
        "        csv_reader = csv.reader(file)\n",
        "\n",
        "        for row in csv_reader:\n",
        "            print(row)\n",
        "\n",
        "file_name = 'outputFileName.csv' # вывод\n",
        "\n",
        "data = [\n",
        "    ['Name', 'Age', 'City'],\n",
        "    ['John', 30, 'New York'],\n",
        "    ['Anna', 25, 'Los Angeles'],\n",
        "    ['Mike', 35, 'Chicago']\n",
        "]\n",
        "\n",
        "write_list_to_csv(file_name, data)\n",
        "print(\"Content of the CSV file:\")\n",
        "read_and_display_csv(file_name)"
      ],
      "metadata": {
        "id": "_ecT-Su7YXGd"
      },
      "execution_count": null,
      "outputs": []
    },
    {
      "cell_type": "markdown",
      "source": [
        "# **11. Write a Python program to write a Python dictionary to a csv file. After writing the CSV file read the CSV file and display the content**"
      ],
      "metadata": {
        "id": "ehaCg1BQCG9G"
      }
    },
    {
      "cell_type": "code",
      "source": [
        "def write_dict_to_csv(file_name, data, field_names):\n",
        "    with open(file_name, 'w', newline='') as file:\n",
        "        csv_writer = csv.DictWriter(file, fieldnames=field_names)\n",
        "        csv_writer.writeheader()\n",
        "\n",
        "        for row in data:\n",
        "            csv_writer.writerow(row)\n",
        "\n",
        "def read_and_display_csv(file_name):\n",
        "    with open(file_name, 'r') as file:\n",
        "        csv_reader = csv.reader(file)\n",
        "\n",
        "        for row in csv_reader:\n",
        "            print(row)\n",
        "\n",
        "file_name = 'outputFileName.csv' # вывод\n",
        "\n",
        "data = [\n",
        "    {'Name': 'John', 'Age': 30, 'City': 'New York'},\n",
        "    {'Name': 'Anna', 'Age': 25, 'City': 'Los Angeles'},\n",
        "    {'Name': 'Mike', 'Age': 35, 'City': 'Chicago'}\n",
        "]\n",
        "\n",
        "field_names = ['Name', 'Age', 'City']\n",
        "\n",
        "write_dict_to_csv(file_name, data, field_names)\n",
        "print(\"Content of the CSV file:\")\n",
        "read_and_display_csv(file_name)"
      ],
      "metadata": {
        "id": "zzG9RtRBCG9G"
      },
      "execution_count": null,
      "outputs": []
    }
  ]
}