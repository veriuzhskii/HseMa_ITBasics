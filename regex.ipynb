{
  "nbformat": 4,
  "nbformat_minor": 0,
  "metadata": {
    "colab": {
      "provenance": []
    },
    "kernelspec": {
      "name": "python3",
      "display_name": "Python 3"
    },
    "language_info": {
      "name": "python"
    }
  },
  "cells": [
    {
      "cell_type": "code",
      "execution_count": 2,
      "metadata": {
        "id": "b7udhq323dfC"
      },
      "outputs": [],
      "source": [
        "import re"
      ]
    },
    {
      "cell_type": "markdown",
      "source": [
        "# **Задача 1: Найти все слова в строке, которые начинаются с заглавной буквы**"
      ],
      "metadata": {
        "id": "WaMAS9O53ob6"
      }
    },
    {
      "cell_type": "code",
      "source": [
        "string = \"Hello world, this is a Regex example with Python.\"\n",
        "print(re.findall(r'\\b[A-Z][a-z]*\\b', string))"
      ],
      "metadata": {
        "colab": {
          "base_uri": "https://localhost:8080/"
        },
        "id": "RqUtzGjc3r0v",
        "outputId": "e26cb46c-9985-4d21-bbb0-57439298a8d4"
      },
      "execution_count": 7,
      "outputs": [
        {
          "output_type": "stream",
          "name": "stdout",
          "text": [
            "['Hello', 'Regex', 'Python']\n"
          ]
        }
      ]
    },
    {
      "cell_type": "markdown",
      "source": [
        "# **Задача 2: Заменить все вхождения \"is\" на \"was\"**"
      ],
      "metadata": {
        "id": "tfyTm2pu3tMn"
      }
    },
    {
      "cell_type": "code",
      "source": [
        "string = \"This is a test. This is only a test.\"\n",
        "print(re.sub(r'\\bis\\b', 'was', string))"
      ],
      "metadata": {
        "colab": {
          "base_uri": "https://localhost:8080/"
        },
        "id": "7pGWCBmE3tMn",
        "outputId": "88e6e0e7-ae2d-4895-9fa1-8ffa7a827357"
      },
      "execution_count": 6,
      "outputs": [
        {
          "output_type": "stream",
          "name": "stdout",
          "text": [
            "This was a test. This was only a test.\n"
          ]
        }
      ]
    },
    {
      "cell_type": "markdown",
      "source": [
        "# **Задача 3: Извлечь все URL из текста**"
      ],
      "metadata": {
        "id": "4gn_bWIY3tSh"
      }
    },
    {
      "cell_type": "code",
      "source": [
        "string = \"\"\"\n",
        "Visit https://www.example.com or follow http://example.org.\n",
        "You can also check out https://another-example.com/path?arg=val for more details.\n",
        "\"\"\"\n",
        "print(re.findall(r'https?://[^\\s]+', string))"
      ],
      "metadata": {
        "colab": {
          "base_uri": "https://localhost:8080/"
        },
        "id": "TpJQ-1RM3tSh",
        "outputId": "4ed7faeb-6f45-48f0-955f-1128ef4bd5de"
      },
      "execution_count": 8,
      "outputs": [
        {
          "output_type": "stream",
          "name": "stdout",
          "text": [
            "['https://www.example.com', 'http://example.org.', 'https://another-example.com/path?arg=val']\n"
          ]
        }
      ]
    },
    {
      "cell_type": "markdown",
      "source": [
        "# **Задача 4: Найти все хэштеги в комментарии**"
      ],
      "metadata": {
        "id": "021J_40Y3tXf"
      }
    },
    {
      "cell_type": "code",
      "source": [
        "string = \"Loving the #sunset and #nature! #beautiful_day\"\n",
        "print(re.findall(r'#\\w+', string))"
      ],
      "metadata": {
        "colab": {
          "base_uri": "https://localhost:8080/"
        },
        "id": "asNxTvca3tXf",
        "outputId": "e5aa0ae6-e7e7-4e43-e827-1764ef79c202"
      },
      "execution_count": 10,
      "outputs": [
        {
          "output_type": "stream",
          "name": "stdout",
          "text": [
            "['#sunset', '#nature', '#beautiful_day']\n"
          ]
        }
      ]
    },
    {
      "cell_type": "markdown",
      "source": [
        "# **Задача 5: Удалить повторяющиеся слова**"
      ],
      "metadata": {
        "id": "97wiQ7Ah3tkf"
      }
    },
    {
      "cell_type": "code",
      "source": [
        "string = \"This is is a test test string.\"\n",
        "print(re.sub(r'\\b(\\w+)\\s+\\1\\b', r'\\1', string))"
      ],
      "metadata": {
        "colab": {
          "base_uri": "https://localhost:8080/"
        },
        "id": "AX2uUAJ43tkf",
        "outputId": "9f5905ff-1bbf-44c4-c280-77763c0ecda6"
      },
      "execution_count": 9,
      "outputs": [
        {
          "output_type": "stream",
          "name": "stdout",
          "text": [
            "This is a test string.\n"
          ]
        }
      ]
    }
  ]
}