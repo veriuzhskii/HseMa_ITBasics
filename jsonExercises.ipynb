{
  "nbformat": 4,
  "nbformat_minor": 0,
  "metadata": {
    "colab": {
      "provenance": []
    },
    "kernelspec": {
      "name": "python3",
      "display_name": "Python 3"
    },
    "language_info": {
      "name": "python"
    }
  },
  "cells": [
    {
      "cell_type": "markdown",
      "source": [
        "# **1. Write a Python program to convert JSON data to Python object.**"
      ],
      "metadata": {
        "id": "wPApjNqjTCQ8"
      }
    },
    {
      "cell_type": "code",
      "source": [
        "import json\n",
        "\n",
        "json_data = '''{\n",
        "    \"name\": \"John\",\n",
        "    \"age\": 30,\n",
        "    \"city\": \"New York\",\n",
        "    \"is_student\": false,\n",
        "    \"courses\": [\"Math\", \"Physics\", \"Computer Science\"]\n",
        "}'''\n",
        "\n",
        "python_obj = json.loads(json_data)\n",
        "\n",
        "print(\"Python object:\", python_obj)\n",
        "\n",
        "print(\"Name:\", python_obj['name'])\n",
        "print(\"Age:\", python_obj['age'])\n",
        "print(\"City:\", python_obj['city'])\n",
        "print(\"Is Student:\", python_obj['is_student'])\n",
        "print(\"Courses:\", python_obj['courses'])"
      ],
      "metadata": {
        "id": "-TsQcHbTTBZx",
        "colab": {
          "base_uri": "https://localhost:8080/"
        },
        "outputId": "8341adc3-f1c3-42a1-c02e-979a8d5bf5cf"
      },
      "execution_count": 3,
      "outputs": [
        {
          "output_type": "stream",
          "name": "stdout",
          "text": [
            "Python object: {'name': 'John', 'age': 30, 'city': 'New York', 'is_student': False, 'courses': ['Math', 'Physics', 'Computer Science']}\n",
            "Name: John\n",
            "Age: 30\n",
            "City: New York\n",
            "Is Student: False\n",
            "Courses: ['Math', 'Physics', 'Computer Science']\n"
          ]
        }
      ]
    },
    {
      "cell_type": "markdown",
      "source": [
        "# **2. Write a Python program to convert Python object to JSON data.**"
      ],
      "metadata": {
        "id": "IQtO-NdJULMd"
      }
    },
    {
      "cell_type": "code",
      "source": [
        "import json\n",
        "\n",
        "python_obj = {\n",
        "    \"name\": \"John\",\n",
        "    \"age\": 30,\n",
        "    \"city\": \"New York\",\n",
        "    \"is_student\": False,\n",
        "    \"courses\": [\"Math\", \"Physics\", \"Computer Science\"]\n",
        "}\n",
        "\n",
        "# Конвертирование Python в JSON\n",
        "json_data = json.dumps(python_obj, indent=4)\n",
        "\n",
        "# Print\n",
        "print(f\"JSON data:\\n{json_data}\")"
      ],
      "metadata": {
        "colab": {
          "base_uri": "https://localhost:8080/"
        },
        "id": "V-IPjA33UNQa",
        "outputId": "5ff6fbea-e083-41f5-ab27-7c12c286fa50"
      },
      "execution_count": 6,
      "outputs": [
        {
          "output_type": "stream",
          "name": "stdout",
          "text": [
            "JSON data:\n",
            "{\n",
            "    \"name\": \"John\",\n",
            "    \"age\": 30,\n",
            "    \"city\": \"New York\",\n",
            "    \"is_student\": false,\n",
            "    \"courses\": [\n",
            "        \"Math\",\n",
            "        \"Physics\",\n",
            "        \"Computer Science\"\n",
            "    ]\n",
            "}\n"
          ]
        }
      ]
    },
    {
      "cell_type": "markdown",
      "source": [
        "# **3. Write a Python program to convert Python objects into JSON strings. Print all the values.**"
      ],
      "metadata": {
        "id": "giNywYjUUt2Y"
      }
    },
    {
      "cell_type": "code",
      "source": [
        "import json\n",
        "\n",
        "python_dict = {\"name\": \"David\", \"age\": 6, \"class\": \"I\"}\n",
        "python_list = [\"Red\", \"Green\", \"Black\"]\n",
        "python_str = \"Python Json\"\n",
        "python_int = 1234\n",
        "python_float = 21.34\n",
        "python_T = True\n",
        "python_F = False\n",
        "python_N = None\n",
        "\n",
        "# Перебираем объекты и переделываем в JSON\n",
        "def convert_to_json(**kwargs):\n",
        "    for label, obj in kwargs.items():\n",
        "        json_obj = json.dumps(obj)\n",
        "        print(f\"{label} : {json_obj}\")\n",
        "\n",
        "convert_to_json(\n",
        "    json_dict=python_dict,\n",
        "    json_list=python_list,\n",
        "    json_string=python_str,\n",
        "    json_number1=python_int,\n",
        "    json_number2=python_float,\n",
        "    json_true=python_T,\n",
        "    json_false=python_F,\n",
        "    json_null=python_N\n",
        ")"
      ],
      "metadata": {
        "colab": {
          "base_uri": "https://localhost:8080/"
        },
        "id": "S6zHuTS4UvJF",
        "outputId": "c6b4a6fe-d168-4bb4-b6c9-0b3ac638a572"
      },
      "execution_count": 10,
      "outputs": [
        {
          "output_type": "stream",
          "name": "stdout",
          "text": [
            "json_dict : {\"name\": \"David\", \"age\": 6, \"class\": \"I\"}\n",
            "json_list : [\"Red\", \"Green\", \"Black\"]\n",
            "json_string : \"Python Json\"\n",
            "json_number1 : 1234\n",
            "json_number2 : 21.34\n",
            "json_true : true\n",
            "json_false : false\n",
            "json_null : null\n"
          ]
        }
      ]
    },
    {
      "cell_type": "markdown",
      "source": [
        "# **4. Write a Python program to convert Python dictionary object (sort by key) to JSON data. Print the object members with indent level 4.**"
      ],
      "metadata": {
        "id": "hxy6lWMzbZyU"
      }
    },
    {
      "cell_type": "code",
      "source": [
        "import json\n",
        "\n",
        "python_dict = {\n",
        "    \"name\": \"David\",\n",
        "    \"age\": 6,\n",
        "    \"class\": \"I\",\n",
        "    \"hobby\": \"Reading\",\n",
        "    \"city\": \"New York\"\n",
        "}\n",
        "\n",
        "json_data = json.dumps(python_dict, sort_keys=True, indent=4)\n",
        "print(json_data)"
      ],
      "metadata": {
        "colab": {
          "base_uri": "https://localhost:8080/"
        },
        "id": "1WdE_C51bZU0",
        "outputId": "40a3fd43-fbb8-4ff7-859b-f8a3d4a8d109"
      },
      "execution_count": 21,
      "outputs": [
        {
          "output_type": "stream",
          "name": "stdout",
          "text": [
            "{\n",
            "    \"age\": 6,\n",
            "    \"city\": \"New York\",\n",
            "    \"class\": \"I\",\n",
            "    \"hobby\": \"Reading\",\n",
            "    \"name\": \"David\"\n",
            "}\n"
          ]
        }
      ]
    },
    {
      "cell_type": "markdown",
      "source": [
        "# **5. Write a Python program to convert JSON encoded data into Python objects.**"
      ],
      "metadata": {
        "id": "Jere0vwmcyYh"
      }
    },
    {
      "cell_type": "code",
      "source": [
        "import json\n",
        "\n",
        "# JSON строка\n",
        "json_data = '''\n",
        "{\n",
        "    \"name\": \"David\",\n",
        "    \"age\": 6,\n",
        "    \"class\": \"I\",\n",
        "    \"hobbies\": [\"Reading\", \"Swimming\", \"Drawing\"],\n",
        "    \"is_student\": true,\n",
        "    \"grade\": null\n",
        "}\n",
        "'''\n",
        "\n",
        "def json_to_python(data):\n",
        "  python_object = json.loads(data)\n",
        "  print('Python object:', python_object)\n",
        "  for label, obj in python_object.items():\n",
        "    print(f\"{label}: {obj}\")\n",
        "\n",
        "json_to_python(json_data)"
      ],
      "metadata": {
        "colab": {
          "base_uri": "https://localhost:8080/"
        },
        "outputId": "cbc22789-4173-4263-becf-b364dc4808ad",
        "id": "DchlPWXccyYi"
      },
      "execution_count": 29,
      "outputs": [
        {
          "output_type": "stream",
          "name": "stdout",
          "text": [
            "Python object: {'name': 'David', 'age': 6, 'class': 'I', 'hobbies': ['Reading', 'Swimming', 'Drawing'], 'is_student': True, 'grade': None}\n",
            "name: David\n",
            "age: 6\n",
            "class: I\n",
            "hobbies: ['Reading', 'Swimming', 'Drawing']\n",
            "is_student: True\n",
            "grade: None\n"
          ]
        }
      ]
    },
    {
      "cell_type": "markdown",
      "source": [
        "# **6. Write a Python program to create a new JSON file from an existing JSON file.**"
      ],
      "metadata": {
        "id": "qE6CBu5hhoab"
      }
    },
    {
      "cell_type": "code",
      "source": [
        "import json\n",
        "\n",
        "def create_new_json_file(og_file, new_file):\n",
        "    with open(og_file, 'r') as f:\n",
        "        data = json.load(f)\n",
        "\n",
        "    with open(new_file, 'w') as f:\n",
        "        json.dump(data, f, indent=4)\n",
        "\n",
        "    print(f\"Data has been copied from {og_file} to {new_file}\")\n",
        "\n",
        "og_file = 'existing_data.json'  # Путь к оригинальному JSON\n",
        "new_file = 'new_data.json'  # Путь к новому JSON\n",
        "\n",
        "create_new_json_file(og_file, new_file)"
      ],
      "metadata": {
        "id": "wTG9kbfyhoad"
      },
      "execution_count": null,
      "outputs": []
    },
    {
      "cell_type": "markdown",
      "source": [
        "# **7. Write a Python program to check whether an instance is complex or not.**"
      ],
      "metadata": {
        "id": "VbWCp8vFkiED"
      }
    },
    {
      "cell_type": "code",
      "source": [
        "def is_complex_number(value):\n",
        "    return isinstance(value, complex)\n",
        "\n",
        "test_values = [\n",
        "    1 + 2j,     # Complex number\n",
        "    3,          # Integer\n",
        "    4.5,        # Float\n",
        "    0j,         # Complex number (zero)\n",
        "    \"Hello\",    # String\n",
        "    [1, 2, 3],  # List\n",
        "    (1 + 1j),   # Complex number (tuple)\n",
        "]\n",
        "\n",
        "for value in test_values:\n",
        "    if is_complex_number(value):\n",
        "        print(f\"{value} is a complex number.\")\n",
        "    else:\n",
        "        print(f\"{value} is NOT a complex number.\")\n"
      ],
      "metadata": {
        "colab": {
          "base_uri": "https://localhost:8080/"
        },
        "id": "3M3kwXVvkiEF",
        "outputId": "9167494e-5c84-4314-a833-7fdcc5368d0e"
      },
      "execution_count": 31,
      "outputs": [
        {
          "output_type": "stream",
          "name": "stdout",
          "text": [
            "(1+2j) is a complex number.\n",
            "3 is NOT a complex number.\n",
            "4.5 is NOT a complex number.\n",
            "0j is a complex number.\n",
            "Hello is NOT a complex number.\n",
            "[1, 2, 3] is NOT a complex number.\n",
            "(1+1j) is a complex number.\n"
          ]
        }
      ]
    },
    {
      "cell_type": "markdown",
      "source": [
        "# **8. Write a Python program to check whether a JSON string contains complex object or not.**"
      ],
      "metadata": {
        "id": "bE13UH49lwyX"
      }
    },
    {
      "cell_type": "code",
      "source": [
        "import json\n",
        "\n",
        "def is_complex(obj):\n",
        "    # Словарь и список по умолчанию complex\n",
        "    if isinstance(obj, (dict, list)):\n",
        "        return True  # Возвращает True если словарь или список\n",
        "    else:\n",
        "        # Все остальные типы данных\n",
        "        return False\n",
        "\n",
        "def check_json_complexity(json_string):\n",
        "    try:\n",
        "        python_object = json.loads(json_string)\n",
        "\n",
        "        if is_complex(python_object):\n",
        "            print(\"The JSON string contains complex objects.\")\n",
        "        else:\n",
        "            print(\"The JSON string does NOT contain complex objects.\")\n",
        "    except json.JSONDecodeError:\n",
        "        print(\"Invalid JSON string.\")\n",
        "\n",
        "# Примеры JSON строк\n",
        "json_string1 = '{\"name\": \"David\", \"age\": 6, \"class\": \"I\"}'  # Simple\n",
        "json_string2 = '{\"name\": \"David\", \"age\": 6, \"class\": {\"grade\": \"A\", \"subject\": \"Math\"}}'  # Complex (nested dict)\n",
        "json_string3 = '[1, 2, 3, {\"key\": \"value\"}]'  # Complex (list with dict)\n",
        "json_string4 = '[1, 2, 3]'  # Simple list\n",
        "\n",
        "check_json_complexity(json_string1)\n",
        "check_json_complexity(json_string2)\n",
        "check_json_complexity(json_string3)\n",
        "check_json_complexity(json_string4)"
      ],
      "metadata": {
        "colab": {
          "base_uri": "https://localhost:8080/"
        },
        "id": "HwMT-vdnxzA4",
        "outputId": "8f7f27d9-b3c7-493c-bf7e-4285598cde39"
      },
      "execution_count": 45,
      "outputs": [
        {
          "output_type": "stream",
          "name": "stdout",
          "text": [
            "The JSON string contains complex objects.\n",
            "The JSON string contains complex objects.\n",
            "The JSON string contains complex objects.\n",
            "The JSON string contains complex objects.\n"
          ]
        }
      ]
    },
    {
      "cell_type": "markdown",
      "source": [
        "# **9. Write a Python program to access only unique key value of a Python object.**"
      ],
      "metadata": {
        "id": "SJJZw0IQy_JY"
      }
    },
    {
      "cell_type": "code",
      "source": [
        "def get_unique_key_values(data):\n",
        "    # Уникальные значения\n",
        "    unique_items = {}\n",
        "\n",
        "    # Значения, которые уже были\n",
        "    seen_values = set()\n",
        "\n",
        "    for key, value in data.items():\n",
        "        # Если значения нет в сете, то добавляем к уникальным значениям\n",
        "        if value not in seen_values:\n",
        "            unique_items[key] = value\n",
        "            seen_values.add(value)\n",
        "\n",
        "    return unique_items\n",
        "\n",
        "python_object = {\n",
        "    \"name\": \"David\",\n",
        "    \"age\": 6,\n",
        "    \"class\": \"I\",\n",
        "    \"grade\": \"A\",\n",
        "    \"subject\": \"Math\",\n",
        "    \"another_grade\": \"A\",\n",
        "    \"hobby\": \"Drawing\"\n",
        "}\n",
        "\n",
        "unique_key_values = get_unique_key_values(python_object)\n",
        "print(f\"Unique key-value pairs:\\n{unique_key_values}\")"
      ],
      "metadata": {
        "colab": {
          "base_uri": "https://localhost:8080/"
        },
        "outputId": "1d1cd3d3-a7df-4d4e-e0ed-3642038de1a0",
        "id": "ib9M_jeGy_Ja"
      },
      "execution_count": 48,
      "outputs": [
        {
          "output_type": "stream",
          "name": "stdout",
          "text": [
            "Unique key-value pairs:\n",
            "{'name': 'David', 'age': 6, 'class': 'I', 'grade': 'A', 'subject': 'Math', 'hobby': 'Drawing'}\n"
          ]
        }
      ]
    }
  ]
}